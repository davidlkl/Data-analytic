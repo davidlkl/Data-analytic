{
 "cells": [
  {
   "cell_type": "markdown",
   "metadata": {
    "hideCode": false,
    "hidePrompt": false
   },
   "source": [
    "# Correlation Analytics --- The Phillips curve"
   ]
  },
  {
   "cell_type": "markdown",
   "metadata": {
    "hideCode": false,
    "hidePrompt": false
   },
   "source": [
    "## Background\n",
    "<hr>"
   ]
  },
  {
   "cell_type": "markdown",
   "metadata": {
    "hideCode": false,
    "hidePrompt": false
   },
   "source": [
    "<p>The Phillips curve is an economic concept developed by A. W. Phillips describing the inverse relationship between unemployment rate and inflation rate within an economy. It states that economic growth brings inflation, leading to more jobs and hence lower unemployment rate.</p><br>\n",
    "This report is going to validate this relationship using historical data in Hong Kong."
   ]
  },
  {
   "cell_type": "code",
   "execution_count": 231,
   "metadata": {
    "hideCode": false,
    "hideOutput": false,
    "hidePrompt": false,
    "scrolled": false
   },
   "outputs": [
    {
     "data": {
      "image/png": "[encoded data removed]",
      "text/plain": [
       "<IPython.core.display.Image object>"
      ]
     },
     "execution_count": 231,
     "metadata": {},
     "output_type": "execute_result"
    }
   ],
   "source": [
    "from IPython.display import Image\n",
    "Image('Source Data\\\\Phillips-curve-basic.png')"
   ]
  },
  {
   "cell_type": "markdown",
   "metadata": {
    "hideCode": false,
    "hideOutput": false,
    "hidePrompt": false
   },
   "source": [
    "Source:\n",
    "<ul>\n",
    "<li>http://www.investopedia.com/terms/p/phillipscurve.asp</li>\n",
    "<li>https://en.wikipedia.org/wiki/Phillips_curve</li>\n",
    "</ul>"
   ]
  },
  {
   "cell_type": "markdown",
   "metadata": {
    "hideCode": false,
    "hidePrompt": false
   },
   "source": [
    "## Data Extraction and Transformation\n",
    "<hr>"
   ]
  },
  {
   "cell_type": "markdown",
   "metadata": {
    "hideCode": false,
    "hidePrompt": false
   },
   "source": [
    "### Data Extraction\n",
    "<hr>"
   ]
  },
  {
   "cell_type": "markdown",
   "metadata": {
    "hideCode": false,
    "hidePrompt": false
   },
   "source": [
    "Inflation Rate:<br>\n",
    "<p>Source:<br>https://data.gov.hk/en-data/dataset/hk-censtatd-tablechart-cpi/resource/927b192b-83ff-4c45-aa5a-cd970d6274a1<br>\n",
    "This dataset contains the average monthly rate of change (%) of consumer price indices (CPI) during the latest 3 months from 1981 to 2017. There are 4 CPIs in the dataset. The CPI(A), CPI(B) and CPI(C) are compiled based on expenditure patterns of households (low, medium and high expenditure groups). The composite CPI aggregates the expenditure patterns covered by the above 3 indices, therefore it can better represent the whole household sector. In this report, the composite CPI will be used for estimating the true inflation rate of Hong Kong.</p>"
   ]
  },
  {
   "cell_type": "markdown",
   "metadata": {
    "hideCode": false,
    "hidePrompt": false
   },
   "source": [
    "Unemployment Rate:<br>\n",
    "<p>Source:<br>https://data.gov.hk/en-data/dataset/hk-censtatd-tablechart-statistics-on-labour-force-unemployment-and-underemployment/resource/6f1045ff-097d-402a-9586-abba49cf468a<br>\n",
    "This dataset contains the unemployment rate in 3-month period from 1982 to 2017. Since the seasonally adjusted CPI rate of change is used, the seasonally adjusted unemployment rate is also used in this report.</p>"
   ]
  },
  {
   "cell_type": "markdown",
   "metadata": {
    "collapsed": true,
    "hideCode": false,
    "hidePrompt": false
   },
   "source": [
    "### Data Transformation\n",
    "<hr>"
   ]
  },
  {
   "cell_type": "code",
   "execution_count": 232,
   "metadata": {
    "hideCode": false,
    "hidePrompt": false
   },
   "outputs": [
    {
     "data": {
      "text/html": [
       "<div>\n",
       "<style>\n",
       "    .dataframe thead tr:only-child th {\n",
       "        text-align: right;\n",
       "    }\n",
       "\n",
       "    .dataframe thead th {\n",
       "        text-align: left;\n",
       "    }\n",
       "\n",
       "    .dataframe tbody tr th {\n",
       "        vertical-align: top;\n",
       "    }\n",
       "</style>\n",
       "<table border=\"1\" class=\"dataframe\">\n",
       "  <thead>\n",
       "    <tr style=\"text-align: right;\">\n",
       "      <th></th>\n",
       "      <th>Year</th>\n",
       "      <th>Month</th>\n",
       "      <th>Composite Consumer Price Index</th>\n",
       "    </tr>\n",
       "  </thead>\n",
       "  <tbody>\n",
       "    <tr>\n",
       "      <th>0</th>\n",
       "      <td>1981</td>\n",
       "      <td>Jan</td>\n",
       "      <td>N.A.</td>\n",
       "    </tr>\n",
       "    <tr>\n",
       "      <th>1</th>\n",
       "      <td>NaN</td>\n",
       "      <td>Feb</td>\n",
       "      <td>N.A.</td>\n",
       "    </tr>\n",
       "    <tr>\n",
       "      <th>2</th>\n",
       "      <td>NaN</td>\n",
       "      <td>Mar</td>\n",
       "      <td>N.A.</td>\n",
       "    </tr>\n",
       "    <tr>\n",
       "      <th>3</th>\n",
       "      <td>NaN</td>\n",
       "      <td>Apr</td>\n",
       "      <td>N.A.</td>\n",
       "    </tr>\n",
       "    <tr>\n",
       "      <th>4</th>\n",
       "      <td>NaN</td>\n",
       "      <td>May</td>\n",
       "      <td>N.A.</td>\n",
       "    </tr>\n",
       "    <tr>\n",
       "      <th>5</th>\n",
       "      <td>NaN</td>\n",
       "      <td>Jun</td>\n",
       "      <td>N.A.</td>\n",
       "    </tr>\n",
       "    <tr>\n",
       "      <th>6</th>\n",
       "      <td>NaN</td>\n",
       "      <td>Jul</td>\n",
       "      <td>N.A.</td>\n",
       "    </tr>\n",
       "    <tr>\n",
       "      <th>...</th>\n",
       "      <td>...</td>\n",
       "      <td>...</td>\n",
       "      <td>...</td>\n",
       "    </tr>\n",
       "    <tr>\n",
       "      <th>432</th>\n",
       "      <td>2017</td>\n",
       "      <td>Jan</td>\n",
       "      <td>0.1</td>\n",
       "    </tr>\n",
       "    <tr>\n",
       "      <th>433</th>\n",
       "      <td>NaN</td>\n",
       "      <td>Feb</td>\n",
       "      <td>-0.1</td>\n",
       "    </tr>\n",
       "    <tr>\n",
       "      <th>434</th>\n",
       "      <td>NaN</td>\n",
       "      <td>Mar</td>\n",
       "      <td>0</td>\n",
       "    </tr>\n",
       "    <tr>\n",
       "      <th>435</th>\n",
       "      <td>NaN</td>\n",
       "      <td>Apr</td>\n",
       "      <td>0.2</td>\n",
       "    </tr>\n",
       "    <tr>\n",
       "      <th>436</th>\n",
       "      <td>NaN</td>\n",
       "      <td>May</td>\n",
       "      <td>0.3</td>\n",
       "    </tr>\n",
       "    <tr>\n",
       "      <th>437</th>\n",
       "      <td>NaN</td>\n",
       "      <td>Jun</td>\n",
       "      <td>0.2</td>\n",
       "    </tr>\n",
       "    <tr>\n",
       "      <th>438</th>\n",
       "      <td>NaN</td>\n",
       "      <td>Jul</td>\n",
       "      <td>0.1</td>\n",
       "    </tr>\n",
       "  </tbody>\n",
       "</table>\n",
       "<p>439 rows × 3 columns</p>\n",
       "</div>"
      ],
      "text/plain": [
       "     Year Month Composite Consumer Price Index\n",
       "0    1981   Jan                           N.A.\n",
       "1     NaN   Feb                           N.A.\n",
       "2     NaN   Mar                           N.A.\n",
       "3     NaN   Apr                           N.A.\n",
       "4     NaN   May                           N.A.\n",
       "5     NaN   Jun                           N.A.\n",
       "6     NaN   Jul                           N.A.\n",
       "..    ...   ...                            ...\n",
       "432  2017   Jan                            0.1\n",
       "433   NaN   Feb                           -0.1\n",
       "434   NaN   Mar                              0\n",
       "435   NaN   Apr                            0.2\n",
       "436   NaN   May                            0.3\n",
       "437   NaN   Jun                            0.2\n",
       "438   NaN   Jul                            0.1\n",
       "\n",
       "[439 rows x 3 columns]"
      ]
     },
     "execution_count": 232,
     "metadata": {},
     "output_type": "execute_result"
    }
   ],
   "source": [
    "# Import Pandas for data manipulation\n",
    "import pandas as pd\n",
    "# Set global display option\n",
    "pd.options.display.max_rows = 15\n",
    "# use pandas library to read excel file\n",
    "df_cpi = pd.read_excel('Source Data\\\\Consumer Price Index.xlsx', parse_cols=\"A:C\", skip_rows=3, header=3).iloc[0:439]\n",
    "# display output\n",
    "df_cpi"
   ]
  },
  {
   "cell_type": "markdown",
   "metadata": {
    "hideCode": false,
    "hidePrompt": false
   },
   "source": [
    "As the Year Column is incomplete, it is needed to fill it in."
   ]
  },
  {
   "cell_type": "code",
   "execution_count": 233,
   "metadata": {
    "hideCode": false,
    "hidePrompt": false
   },
   "outputs": [
    {
     "data": {
      "text/html": [
       "<div>\n",
       "<style>\n",
       "    .dataframe thead tr:only-child th {\n",
       "        text-align: right;\n",
       "    }\n",
       "\n",
       "    .dataframe thead th {\n",
       "        text-align: left;\n",
       "    }\n",
       "\n",
       "    .dataframe tbody tr th {\n",
       "        vertical-align: top;\n",
       "    }\n",
       "</style>\n",
       "<table border=\"1\" class=\"dataframe\">\n",
       "  <thead>\n",
       "    <tr style=\"text-align: right;\">\n",
       "      <th></th>\n",
       "      <th>Year</th>\n",
       "      <th>Month</th>\n",
       "      <th>Composite Consumer Price Index</th>\n",
       "    </tr>\n",
       "  </thead>\n",
       "  <tbody>\n",
       "    <tr>\n",
       "      <th>0</th>\n",
       "      <td>1981</td>\n",
       "      <td>Jan</td>\n",
       "      <td>N.A.</td>\n",
       "    </tr>\n",
       "    <tr>\n",
       "      <th>1</th>\n",
       "      <td>1981</td>\n",
       "      <td>Feb</td>\n",
       "      <td>N.A.</td>\n",
       "    </tr>\n",
       "    <tr>\n",
       "      <th>2</th>\n",
       "      <td>1981</td>\n",
       "      <td>Mar</td>\n",
       "      <td>N.A.</td>\n",
       "    </tr>\n",
       "    <tr>\n",
       "      <th>3</th>\n",
       "      <td>1981</td>\n",
       "      <td>Apr</td>\n",
       "      <td>N.A.</td>\n",
       "    </tr>\n",
       "    <tr>\n",
       "      <th>4</th>\n",
       "      <td>1981</td>\n",
       "      <td>May</td>\n",
       "      <td>N.A.</td>\n",
       "    </tr>\n",
       "    <tr>\n",
       "      <th>5</th>\n",
       "      <td>1981</td>\n",
       "      <td>Jun</td>\n",
       "      <td>N.A.</td>\n",
       "    </tr>\n",
       "    <tr>\n",
       "      <th>6</th>\n",
       "      <td>1981</td>\n",
       "      <td>Jul</td>\n",
       "      <td>N.A.</td>\n",
       "    </tr>\n",
       "    <tr>\n",
       "      <th>...</th>\n",
       "      <td>...</td>\n",
       "      <td>...</td>\n",
       "      <td>...</td>\n",
       "    </tr>\n",
       "    <tr>\n",
       "      <th>432</th>\n",
       "      <td>2017</td>\n",
       "      <td>Jan</td>\n",
       "      <td>0.1</td>\n",
       "    </tr>\n",
       "    <tr>\n",
       "      <th>433</th>\n",
       "      <td>2017</td>\n",
       "      <td>Feb</td>\n",
       "      <td>-0.1</td>\n",
       "    </tr>\n",
       "    <tr>\n",
       "      <th>434</th>\n",
       "      <td>2017</td>\n",
       "      <td>Mar</td>\n",
       "      <td>0</td>\n",
       "    </tr>\n",
       "    <tr>\n",
       "      <th>435</th>\n",
       "      <td>2017</td>\n",
       "      <td>Apr</td>\n",
       "      <td>0.2</td>\n",
       "    </tr>\n",
       "    <tr>\n",
       "      <th>436</th>\n",
       "      <td>2017</td>\n",
       "      <td>May</td>\n",
       "      <td>0.3</td>\n",
       "    </tr>\n",
       "    <tr>\n",
       "      <th>437</th>\n",
       "      <td>2017</td>\n",
       "      <td>Jun</td>\n",
       "      <td>0.2</td>\n",
       "    </tr>\n",
       "    <tr>\n",
       "      <th>438</th>\n",
       "      <td>2017</td>\n",
       "      <td>Jul</td>\n",
       "      <td>0.1</td>\n",
       "    </tr>\n",
       "  </tbody>\n",
       "</table>\n",
       "<p>439 rows × 3 columns</p>\n",
       "</div>"
      ],
      "text/plain": [
       "     Year Month Composite Consumer Price Index\n",
       "0    1981   Jan                           N.A.\n",
       "1    1981   Feb                           N.A.\n",
       "2    1981   Mar                           N.A.\n",
       "3    1981   Apr                           N.A.\n",
       "4    1981   May                           N.A.\n",
       "5    1981   Jun                           N.A.\n",
       "6    1981   Jul                           N.A.\n",
       "..    ...   ...                            ...\n",
       "432  2017   Jan                            0.1\n",
       "433  2017   Feb                           -0.1\n",
       "434  2017   Mar                              0\n",
       "435  2017   Apr                            0.2\n",
       "436  2017   May                            0.3\n",
       "437  2017   Jun                            0.2\n",
       "438  2017   Jul                            0.1\n",
       "\n",
       "[439 rows x 3 columns]"
      ]
     },
     "execution_count": 233,
     "metadata": {},
     "output_type": "execute_result"
    }
   ],
   "source": [
    "# Fill Year Column\n",
    "Year = [int(df_cpi.Year.values[0])]\n",
    "for i in range(1, len(df_cpi.index)):\n",
    "\tYear.append(Year[i-1] + int((i)%12==0))\n",
    "df_cpi['Year'] = Year\n",
    "df_cpi"
   ]
  },
  {
   "cell_type": "markdown",
   "metadata": {
    "hideCode": false,
    "hidePrompt": false
   },
   "source": [
    "In order to estimate the inflation rate, the year-to-year rate of change of CPI is used. In this dataset, the rate of change is on monthly basis. Some steps are involved for this data conversion."
   ]
  },
  {
   "cell_type": "code",
   "execution_count": 234,
   "metadata": {
    "hideCode": false,
    "hidePrompt": false
   },
   "outputs": [
    {
     "data": {
      "text/html": [
       "<div>\n",
       "<style>\n",
       "    .dataframe thead tr:only-child th {\n",
       "        text-align: right;\n",
       "    }\n",
       "\n",
       "    .dataframe thead th {\n",
       "        text-align: left;\n",
       "    }\n",
       "\n",
       "    .dataframe tbody tr th {\n",
       "        vertical-align: top;\n",
       "    }\n",
       "</style>\n",
       "<table border=\"1\" class=\"dataframe\">\n",
       "  <thead>\n",
       "    <tr style=\"text-align: right;\">\n",
       "      <th></th>\n",
       "      <th>Year</th>\n",
       "      <th>Month</th>\n",
       "      <th>cpi_yearly</th>\n",
       "    </tr>\n",
       "  </thead>\n",
       "  <tbody>\n",
       "    <tr>\n",
       "      <th>0</th>\n",
       "      <td>1992</td>\n",
       "      <td>Dec</td>\n",
       "      <td>9.487854</td>\n",
       "    </tr>\n",
       "    <tr>\n",
       "      <th>1</th>\n",
       "      <td>1993</td>\n",
       "      <td>Jan</td>\n",
       "      <td>9.487854</td>\n",
       "    </tr>\n",
       "    <tr>\n",
       "      <th>2</th>\n",
       "      <td>1993</td>\n",
       "      <td>Feb</td>\n",
       "      <td>9.379343</td>\n",
       "    </tr>\n",
       "    <tr>\n",
       "      <th>3</th>\n",
       "      <td>1993</td>\n",
       "      <td>Mar</td>\n",
       "      <td>9.054454</td>\n",
       "    </tr>\n",
       "    <tr>\n",
       "      <th>4</th>\n",
       "      <td>1993</td>\n",
       "      <td>Apr</td>\n",
       "      <td>8.622555</td>\n",
       "    </tr>\n",
       "    <tr>\n",
       "      <th>5</th>\n",
       "      <td>1993</td>\n",
       "      <td>May</td>\n",
       "      <td>8.622555</td>\n",
       "    </tr>\n",
       "    <tr>\n",
       "      <th>6</th>\n",
       "      <td>1993</td>\n",
       "      <td>Jun</td>\n",
       "      <td>8.730423</td>\n",
       "    </tr>\n",
       "    <tr>\n",
       "      <th>...</th>\n",
       "      <td>...</td>\n",
       "      <td>...</td>\n",
       "      <td>...</td>\n",
       "    </tr>\n",
       "    <tr>\n",
       "      <th>289</th>\n",
       "      <td>2017</td>\n",
       "      <td>Jan</td>\n",
       "      <td>1.102990</td>\n",
       "    </tr>\n",
       "    <tr>\n",
       "      <th>290</th>\n",
       "      <td>2017</td>\n",
       "      <td>Feb</td>\n",
       "      <td>0.699788</td>\n",
       "    </tr>\n",
       "    <tr>\n",
       "      <th>291</th>\n",
       "      <td>2017</td>\n",
       "      <td>Mar</td>\n",
       "      <td>0.498790</td>\n",
       "    </tr>\n",
       "    <tr>\n",
       "      <th>292</th>\n",
       "      <td>2017</td>\n",
       "      <td>Apr</td>\n",
       "      <td>0.800589</td>\n",
       "    </tr>\n",
       "    <tr>\n",
       "      <th>293</th>\n",
       "      <td>2017</td>\n",
       "      <td>May</td>\n",
       "      <td>1.407212</td>\n",
       "    </tr>\n",
       "    <tr>\n",
       "      <th>294</th>\n",
       "      <td>2017</td>\n",
       "      <td>Jun</td>\n",
       "      <td>1.915774</td>\n",
       "    </tr>\n",
       "    <tr>\n",
       "      <th>295</th>\n",
       "      <td>2017</td>\n",
       "      <td>Jul</td>\n",
       "      <td>1.915774</td>\n",
       "    </tr>\n",
       "  </tbody>\n",
       "</table>\n",
       "<p>296 rows × 3 columns</p>\n",
       "</div>"
      ],
      "text/plain": [
       "     Year Month  cpi_yearly\n",
       "0    1992   Dec    9.487854\n",
       "1    1993   Jan    9.487854\n",
       "2    1993   Feb    9.379343\n",
       "3    1993   Mar    9.054454\n",
       "4    1993   Apr    8.622555\n",
       "5    1993   May    8.622555\n",
       "6    1993   Jun    8.730423\n",
       "..    ...   ...         ...\n",
       "289  2017   Jan    1.102990\n",
       "290  2017   Feb    0.699788\n",
       "291  2017   Mar    0.498790\n",
       "292  2017   Apr    0.800589\n",
       "293  2017   May    1.407212\n",
       "294  2017   Jun    1.915774\n",
       "295  2017   Jul    1.915774\n",
       "\n",
       "[296 rows x 3 columns]"
      ]
     },
     "execution_count": 234,
     "metadata": {},
     "output_type": "execute_result"
    }
   ],
   "source": [
    "# Import numpy for calculation\n",
    "import numpy as np\n",
    "# Drop rows with value 'n.a'\n",
    "df_cpi = df_cpi[df_cpi['Composite Consumer Price Index']!='N.A.']\n",
    "df_cpi = df_cpi.reset_index(drop=True)\n",
    "# From % to float\n",
    "df_cpi['Composite Consumer Price Index'] = df_cpi['Composite Consumer Price Index']/100 + 1\n",
    "# Prepare array of yearly rate\n",
    "cpi_monthly = list(df_cpi['Composite Consumer Price Index'].values)\n",
    "cpi_yearly = []\n",
    "for i in range(0, len(cpi_monthly)):\n",
    "\tif i <= 10:\n",
    "\t\tcontinue\n",
    "\telse:\n",
    "\t\tcpi_yearly.append((np.product(cpi_monthly[i-11:i+1])-1)*100)\n",
    "# Drop first 11 rows and monthly rate column\n",
    "df_cpi = df_cpi.iloc[11:len(df_cpi)]\n",
    "df_cpi = df_cpi.drop('Composite Consumer Price Index',axis=1)\n",
    "df_cpi = df_cpi.reset_index(drop=True)\n",
    "# Copy array to dataframe\n",
    "df_cpi['cpi_yearly'] = cpi_yearly\n",
    "# Display Output\n",
    "df_cpi"
   ]
  },
  {
   "cell_type": "markdown",
   "metadata": {
    "hideCode": false,
    "hidePrompt": false
   },
   "source": [
    "Now the period is splited into two columns (Year and Month). These columns are merged into a column \"Period\" and stored in standard Python datetime format."
   ]
  },
  {
   "cell_type": "code",
   "execution_count": 235,
   "metadata": {
    "hideCode": false,
    "hidePrompt": false
   },
   "outputs": [
    {
     "data": {
      "text/html": [
       "<div>\n",
       "<style>\n",
       "    .dataframe thead tr:only-child th {\n",
       "        text-align: right;\n",
       "    }\n",
       "\n",
       "    .dataframe thead th {\n",
       "        text-align: left;\n",
       "    }\n",
       "\n",
       "    .dataframe tbody tr th {\n",
       "        vertical-align: top;\n",
       "    }\n",
       "</style>\n",
       "<table border=\"1\" class=\"dataframe\">\n",
       "  <thead>\n",
       "    <tr style=\"text-align: right;\">\n",
       "      <th></th>\n",
       "      <th>cpi_yearly</th>\n",
       "      <th>Date</th>\n",
       "    </tr>\n",
       "  </thead>\n",
       "  <tbody>\n",
       "    <tr>\n",
       "      <th>0</th>\n",
       "      <td>9.487854</td>\n",
       "      <td>1992-12-31</td>\n",
       "    </tr>\n",
       "    <tr>\n",
       "      <th>1</th>\n",
       "      <td>9.487854</td>\n",
       "      <td>1993-01-31</td>\n",
       "    </tr>\n",
       "    <tr>\n",
       "      <th>2</th>\n",
       "      <td>9.379343</td>\n",
       "      <td>1993-02-28</td>\n",
       "    </tr>\n",
       "    <tr>\n",
       "      <th>3</th>\n",
       "      <td>9.054454</td>\n",
       "      <td>1993-03-31</td>\n",
       "    </tr>\n",
       "    <tr>\n",
       "      <th>4</th>\n",
       "      <td>8.622555</td>\n",
       "      <td>1993-04-30</td>\n",
       "    </tr>\n",
       "    <tr>\n",
       "      <th>5</th>\n",
       "      <td>8.622555</td>\n",
       "      <td>1993-05-31</td>\n",
       "    </tr>\n",
       "    <tr>\n",
       "      <th>6</th>\n",
       "      <td>8.730423</td>\n",
       "      <td>1993-06-30</td>\n",
       "    </tr>\n",
       "    <tr>\n",
       "      <th>...</th>\n",
       "      <td>...</td>\n",
       "      <td>...</td>\n",
       "    </tr>\n",
       "    <tr>\n",
       "      <th>289</th>\n",
       "      <td>1.102990</td>\n",
       "      <td>2017-01-31</td>\n",
       "    </tr>\n",
       "    <tr>\n",
       "      <th>290</th>\n",
       "      <td>0.699788</td>\n",
       "      <td>2017-02-28</td>\n",
       "    </tr>\n",
       "    <tr>\n",
       "      <th>291</th>\n",
       "      <td>0.498790</td>\n",
       "      <td>2017-03-31</td>\n",
       "    </tr>\n",
       "    <tr>\n",
       "      <th>292</th>\n",
       "      <td>0.800589</td>\n",
       "      <td>2017-04-30</td>\n",
       "    </tr>\n",
       "    <tr>\n",
       "      <th>293</th>\n",
       "      <td>1.407212</td>\n",
       "      <td>2017-05-31</td>\n",
       "    </tr>\n",
       "    <tr>\n",
       "      <th>294</th>\n",
       "      <td>1.915774</td>\n",
       "      <td>2017-06-30</td>\n",
       "    </tr>\n",
       "    <tr>\n",
       "      <th>295</th>\n",
       "      <td>1.915774</td>\n",
       "      <td>2017-07-31</td>\n",
       "    </tr>\n",
       "  </tbody>\n",
       "</table>\n",
       "<p>296 rows × 2 columns</p>\n",
       "</div>"
      ],
      "text/plain": [
       "     cpi_yearly        Date\n",
       "0      9.487854  1992-12-31\n",
       "1      9.487854  1993-01-31\n",
       "2      9.379343  1993-02-28\n",
       "3      9.054454  1993-03-31\n",
       "4      8.622555  1993-04-30\n",
       "5      8.622555  1993-05-31\n",
       "6      8.730423  1993-06-30\n",
       "..          ...         ...\n",
       "289    1.102990  2017-01-31\n",
       "290    0.699788  2017-02-28\n",
       "291    0.498790  2017-03-31\n",
       "292    0.800589  2017-04-30\n",
       "293    1.407212  2017-05-31\n",
       "294    1.915774  2017-06-30\n",
       "295    1.915774  2017-07-31\n",
       "\n",
       "[296 rows x 2 columns]"
      ]
     },
     "execution_count": 235,
     "metadata": {},
     "output_type": "execute_result"
    }
   ],
   "source": [
    "# Import Calendar and datetime library for converting data into standard datetime format\n",
    "import calendar\n",
    "import datetime\n",
    "\n",
    "# Function to get last day of month of a year\n",
    "def get_datetime(Year, Month):\n",
    "\treturn datetime.date(int(Year),int(Month),calendar.monthrange(int(Year),int(Month))[1])\n",
    "\n",
    "# Convert month appreviation to integer (e.g. \"Dec\" -> 12)\n",
    "df_cpi['Month'] = df_cpi['Month'].apply(lambda x : list(calendar.month_abbr).index(x))\n",
    "# Get the date using get_datetime function defined above\n",
    "df_cpi['Date'] = df_cpi.apply(lambda row: get_datetime(row['Year'],row['Month']), axis=1)\n",
    "df_cpi = df_cpi.drop(['Month','Year'],axis=1)\n",
    "#Display Output\n",
    "df_cpi"
   ]
  },
  {
   "cell_type": "markdown",
   "metadata": {
    "hideCode": false,
    "hidePrompt": false
   },
   "source": [
    "For cleansing another dataset, steps such as removing trailing special characters, getting datetime and unit conversion are involved."
   ]
  },
  {
   "cell_type": "code",
   "execution_count": 236,
   "metadata": {
    "hideCode": false,
    "hidePrompt": false
   },
   "outputs": [
    {
     "data": {
      "text/html": [
       "<div>\n",
       "<style>\n",
       "    .dataframe thead tr:only-child th {\n",
       "        text-align: right;\n",
       "    }\n",
       "\n",
       "    .dataframe thead th {\n",
       "        text-align: left;\n",
       "    }\n",
       "\n",
       "    .dataframe tbody tr th {\n",
       "        vertical-align: top;\n",
       "    }\n",
       "</style>\n",
       "<table border=\"1\" class=\"dataframe\">\n",
       "  <thead>\n",
       "    <tr style=\"text-align: right;\">\n",
       "      <th></th>\n",
       "      <th>Date</th>\n",
       "      <th>Unemployment Rate</th>\n",
       "    </tr>\n",
       "  </thead>\n",
       "  <tbody>\n",
       "    <tr>\n",
       "      <th>0</th>\n",
       "      <td>1992-12-31</td>\n",
       "      <td>2.4</td>\n",
       "    </tr>\n",
       "    <tr>\n",
       "      <th>1</th>\n",
       "      <td>1993-01-31</td>\n",
       "      <td>2.2</td>\n",
       "    </tr>\n",
       "    <tr>\n",
       "      <th>2</th>\n",
       "      <td>1993-02-28</td>\n",
       "      <td>2.2</td>\n",
       "    </tr>\n",
       "    <tr>\n",
       "      <th>3</th>\n",
       "      <td>1993-03-31</td>\n",
       "      <td>2.1</td>\n",
       "    </tr>\n",
       "    <tr>\n",
       "      <th>4</th>\n",
       "      <td>1993-04-30</td>\n",
       "      <td>1.9</td>\n",
       "    </tr>\n",
       "    <tr>\n",
       "      <th>5</th>\n",
       "      <td>1993-05-31</td>\n",
       "      <td>1.8</td>\n",
       "    </tr>\n",
       "    <tr>\n",
       "      <th>6</th>\n",
       "      <td>1993-06-30</td>\n",
       "      <td>1.8</td>\n",
       "    </tr>\n",
       "    <tr>\n",
       "      <th>...</th>\n",
       "      <td>...</td>\n",
       "      <td>...</td>\n",
       "    </tr>\n",
       "    <tr>\n",
       "      <th>289</th>\n",
       "      <td>2017-01-31</td>\n",
       "      <td>3.3</td>\n",
       "    </tr>\n",
       "    <tr>\n",
       "      <th>290</th>\n",
       "      <td>2017-02-28</td>\n",
       "      <td>3.3</td>\n",
       "    </tr>\n",
       "    <tr>\n",
       "      <th>291</th>\n",
       "      <td>2017-03-31</td>\n",
       "      <td>3.2</td>\n",
       "    </tr>\n",
       "    <tr>\n",
       "      <th>292</th>\n",
       "      <td>2017-04-30</td>\n",
       "      <td>3.2</td>\n",
       "    </tr>\n",
       "    <tr>\n",
       "      <th>293</th>\n",
       "      <td>2017-05-31</td>\n",
       "      <td>3.2</td>\n",
       "    </tr>\n",
       "    <tr>\n",
       "      <th>294</th>\n",
       "      <td>2017-06-30</td>\n",
       "      <td>3.1</td>\n",
       "    </tr>\n",
       "    <tr>\n",
       "      <th>295</th>\n",
       "      <td>2017-07-31</td>\n",
       "      <td>3.1</td>\n",
       "    </tr>\n",
       "  </tbody>\n",
       "</table>\n",
       "<p>296 rows × 2 columns</p>\n",
       "</div>"
      ],
      "text/plain": [
       "           Date  Unemployment Rate\n",
       "0    1992-12-31                2.4\n",
       "1    1993-01-31                2.2\n",
       "2    1993-02-28                2.2\n",
       "3    1993-03-31                2.1\n",
       "4    1993-04-30                1.9\n",
       "5    1993-05-31                1.8\n",
       "6    1993-06-30                1.8\n",
       "..          ...                ...\n",
       "289  2017-01-31                3.3\n",
       "290  2017-02-28                3.3\n",
       "291  2017-03-31                3.2\n",
       "292  2017-04-30                3.2\n",
       "293  2017-05-31                3.2\n",
       "294  2017-06-30                3.1\n",
       "295  2017-07-31                3.1\n",
       "\n",
       "[296 rows x 2 columns]"
      ]
     },
     "execution_count": 236,
     "metadata": {},
     "output_type": "execute_result"
    }
   ],
   "source": [
    "# Import Regular Expression libray for string manipulation\n",
    "import re\n",
    "# Starting from row 169 as only data from 31-12-1992 to 31-07-2017 are needed\n",
    "df_unemployment_rate = pd.read_excel('Source Data\\\\Unemployment Rate.xlsx', parse_cols=\"A,F\", header=3).iloc[169:465]\n",
    "df_unemployment_rate = df_unemployment_rate.reset_index(drop=True)\n",
    "# Remove trailing space and other characters\n",
    "df_unemployment_rate['Period'] = df_unemployment_rate['Period'].apply(lambda x: re.sub(r\"[#@ .*]\",r\"\",x))\n",
    "# Get DateTime\n",
    "df_unemployment_rate['Period'] = df_unemployment_rate['Period'].apply(lambda x: get_datetime(int(x.split('-')[1].split('/')[1]),int(x.split('-')[1].split('/')[0])))\n",
    "# Rename the columns\n",
    "df_unemployment_rate.columns = ['Date','Unemployment Rate']\n",
    "# Clean Unemployment Rate Column\n",
    "df_unemployment_rate['Unemployment Rate'] = df_unemployment_rate['Unemployment Rate'].apply(lambda x : float(x))\n",
    "# Display Output\n",
    "df_unemployment_rate"
   ]
  },
  {
   "cell_type": "markdown",
   "metadata": {
    "hideCode": false,
    "hidePrompt": false
   },
   "source": [
    "The two cleansed datasets are then merged into a single dataset and the final dataset is stored in .csv format."
   ]
  },
  {
   "cell_type": "code",
   "execution_count": 237,
   "metadata": {
    "hideCode": false,
    "hidePrompt": false
   },
   "outputs": [
    {
     "data": {
      "text/html": [
       "<div>\n",
       "<style>\n",
       "    .dataframe thead tr:only-child th {\n",
       "        text-align: right;\n",
       "    }\n",
       "\n",
       "    .dataframe thead th {\n",
       "        text-align: left;\n",
       "    }\n",
       "\n",
       "    .dataframe tbody tr th {\n",
       "        vertical-align: top;\n",
       "    }\n",
       "</style>\n",
       "<table border=\"1\" class=\"dataframe\">\n",
       "  <thead>\n",
       "    <tr style=\"text-align: right;\">\n",
       "      <th></th>\n",
       "      <th>cpi_yearly</th>\n",
       "      <th>Date</th>\n",
       "      <th>Unemployment Rate</th>\n",
       "    </tr>\n",
       "  </thead>\n",
       "  <tbody>\n",
       "    <tr>\n",
       "      <th>0</th>\n",
       "      <td>9.487854</td>\n",
       "      <td>1992-12-31</td>\n",
       "      <td>2.4</td>\n",
       "    </tr>\n",
       "    <tr>\n",
       "      <th>1</th>\n",
       "      <td>9.487854</td>\n",
       "      <td>1993-01-31</td>\n",
       "      <td>2.2</td>\n",
       "    </tr>\n",
       "    <tr>\n",
       "      <th>2</th>\n",
       "      <td>9.379343</td>\n",
       "      <td>1993-02-28</td>\n",
       "      <td>2.2</td>\n",
       "    </tr>\n",
       "    <tr>\n",
       "      <th>3</th>\n",
       "      <td>9.054454</td>\n",
       "      <td>1993-03-31</td>\n",
       "      <td>2.1</td>\n",
       "    </tr>\n",
       "    <tr>\n",
       "      <th>4</th>\n",
       "      <td>8.622555</td>\n",
       "      <td>1993-04-30</td>\n",
       "      <td>1.9</td>\n",
       "    </tr>\n",
       "    <tr>\n",
       "      <th>5</th>\n",
       "      <td>8.622555</td>\n",
       "      <td>1993-05-31</td>\n",
       "      <td>1.8</td>\n",
       "    </tr>\n",
       "    <tr>\n",
       "      <th>6</th>\n",
       "      <td>8.730423</td>\n",
       "      <td>1993-06-30</td>\n",
       "      <td>1.8</td>\n",
       "    </tr>\n",
       "    <tr>\n",
       "      <th>...</th>\n",
       "      <td>...</td>\n",
       "      <td>...</td>\n",
       "      <td>...</td>\n",
       "    </tr>\n",
       "    <tr>\n",
       "      <th>289</th>\n",
       "      <td>1.102990</td>\n",
       "      <td>2017-01-31</td>\n",
       "      <td>3.3</td>\n",
       "    </tr>\n",
       "    <tr>\n",
       "      <th>290</th>\n",
       "      <td>0.699788</td>\n",
       "      <td>2017-02-28</td>\n",
       "      <td>3.3</td>\n",
       "    </tr>\n",
       "    <tr>\n",
       "      <th>291</th>\n",
       "      <td>0.498790</td>\n",
       "      <td>2017-03-31</td>\n",
       "      <td>3.2</td>\n",
       "    </tr>\n",
       "    <tr>\n",
       "      <th>292</th>\n",
       "      <td>0.800589</td>\n",
       "      <td>2017-04-30</td>\n",
       "      <td>3.2</td>\n",
       "    </tr>\n",
       "    <tr>\n",
       "      <th>293</th>\n",
       "      <td>1.407212</td>\n",
       "      <td>2017-05-31</td>\n",
       "      <td>3.2</td>\n",
       "    </tr>\n",
       "    <tr>\n",
       "      <th>294</th>\n",
       "      <td>1.915774</td>\n",
       "      <td>2017-06-30</td>\n",
       "      <td>3.1</td>\n",
       "    </tr>\n",
       "    <tr>\n",
       "      <th>295</th>\n",
       "      <td>1.915774</td>\n",
       "      <td>2017-07-31</td>\n",
       "      <td>3.1</td>\n",
       "    </tr>\n",
       "  </tbody>\n",
       "</table>\n",
       "<p>296 rows × 3 columns</p>\n",
       "</div>"
      ],
      "text/plain": [
       "     cpi_yearly        Date  Unemployment Rate\n",
       "0      9.487854  1992-12-31                2.4\n",
       "1      9.487854  1993-01-31                2.2\n",
       "2      9.379343  1993-02-28                2.2\n",
       "3      9.054454  1993-03-31                2.1\n",
       "4      8.622555  1993-04-30                1.9\n",
       "5      8.622555  1993-05-31                1.8\n",
       "6      8.730423  1993-06-30                1.8\n",
       "..          ...         ...                ...\n",
       "289    1.102990  2017-01-31                3.3\n",
       "290    0.699788  2017-02-28                3.3\n",
       "291    0.498790  2017-03-31                3.2\n",
       "292    0.800589  2017-04-30                3.2\n",
       "293    1.407212  2017-05-31                3.2\n",
       "294    1.915774  2017-06-30                3.1\n",
       "295    1.915774  2017-07-31                3.1\n",
       "\n",
       "[296 rows x 3 columns]"
      ]
     },
     "execution_count": 237,
     "metadata": {},
     "output_type": "execute_result"
    }
   ],
   "source": [
    "# Merge the two datasets\n",
    "df_clean = df_cpi.merge(df_unemployment_rate)\n",
    "# Output dataset as csv\n",
    "df_clean.to_csv('Source Data\\\\data_cleaned.csv')\n",
    "# Display Output\n",
    "df_clean"
   ]
  },
  {
   "cell_type": "markdown",
   "metadata": {
    "hideCode": false,
    "hidePrompt": false
   },
   "source": [
    "### Final Dataset\n",
    "<hr>"
   ]
  },
  {
   "cell_type": "code",
   "execution_count": 238,
   "metadata": {
    "hideCode": false,
    "hidePrompt": false
   },
   "outputs": [
    {
     "data": {
      "image/png": "[encoded data removed]",
      "text/plain": [
       "<matplotlib.figure.Figure at 0x8e21030>"
      ]
     },
     "metadata": {},
     "output_type": "display_data"
    }
   ],
   "source": [
    "# Magic command for making matplotlib inline in jupyter notebook\n",
    "%matplotlib inline\n",
    "\n",
    "# Import matplotlib library\n",
    "import matplotlib\n",
    "import matplotlib.pyplot as plt\n",
    "\n",
    "cpi = df_clean['cpi_yearly']\n",
    "unemployment_rate = df_clean['Unemployment Rate']\n",
    "# Date as X-axis\n",
    "date = df_clean['Date']\n",
    "# Plot\n",
    "plt.plot(date,cpi, label='CPI')\n",
    "plt.plot(date,unemployment_rate, label='Unemployment Rate')\n",
    "# Display Setting\n",
    "plt.title('Final Dataset')\n",
    "plt.xlabel('Date')\n",
    "plt.ylabel('Rate (%)')\n",
    "plt.legend()\n",
    "\n",
    "plt.show()\n"
   ]
  },
  {
   "cell_type": "markdown",
   "metadata": {},
   "source": [
    "From the plot above, it seems that a negative relationship exists between inflation rate and unemployment rate."
   ]
  },
  {
   "cell_type": "markdown",
   "metadata": {
    "hideCode": false,
    "hidePrompt": false
   },
   "source": [
    "## Data Analysis\n",
    "<hr>"
   ]
  },
  {
   "cell_type": "markdown",
   "metadata": {
    "hideCode": false,
    "hidePrompt": false
   },
   "source": [
    "### Summary Statistics\n",
    "<hr>"
   ]
  },
  {
   "cell_type": "code",
   "execution_count": 239,
   "metadata": {
    "hideCode": false,
    "hidePrompt": false,
    "scrolled": true
   },
   "outputs": [
    {
     "data": {
      "text/html": [
       "<div>\n",
       "<style>\n",
       "    .dataframe thead tr:only-child th {\n",
       "        text-align: right;\n",
       "    }\n",
       "\n",
       "    .dataframe thead th {\n",
       "        text-align: left;\n",
       "    }\n",
       "\n",
       "    .dataframe tbody tr th {\n",
       "        vertical-align: top;\n",
       "    }\n",
       "</style>\n",
       "<table border=\"1\" class=\"dataframe\">\n",
       "  <thead>\n",
       "    <tr style=\"text-align: right;\">\n",
       "      <th></th>\n",
       "      <th>cpi_yearly</th>\n",
       "      <th>Unemployment Rate</th>\n",
       "    </tr>\n",
       "  </thead>\n",
       "  <tbody>\n",
       "    <tr>\n",
       "      <th>count</th>\n",
       "      <td>296.000000</td>\n",
       "      <td>296.000000</td>\n",
       "    </tr>\n",
       "    <tr>\n",
       "      <th>mean</th>\n",
       "      <td>2.609163</td>\n",
       "      <td>4.238851</td>\n",
       "    </tr>\n",
       "    <tr>\n",
       "      <th>std</th>\n",
       "      <td>3.853105</td>\n",
       "      <td>1.632014</td>\n",
       "    </tr>\n",
       "    <tr>\n",
       "      <th>min</th>\n",
       "      <td>-5.938056</td>\n",
       "      <td>1.500000</td>\n",
       "    </tr>\n",
       "    <tr>\n",
       "      <th>25%</th>\n",
       "      <td>0.174875</td>\n",
       "      <td>3.275000</td>\n",
       "    </tr>\n",
       "    <tr>\n",
       "      <th>50%</th>\n",
       "      <td>2.515659</td>\n",
       "      <td>3.600000</td>\n",
       "    </tr>\n",
       "    <tr>\n",
       "      <th>75%</th>\n",
       "      <td>5.451625</td>\n",
       "      <td>5.300000</td>\n",
       "    </tr>\n",
       "    <tr>\n",
       "      <th>max</th>\n",
       "      <td>9.706280</td>\n",
       "      <td>8.500000</td>\n",
       "    </tr>\n",
       "    <tr>\n",
       "      <th>cv</th>\n",
       "      <td>1.476759</td>\n",
       "      <td>0.385013</td>\n",
       "    </tr>\n",
       "  </tbody>\n",
       "</table>\n",
       "</div>"
      ],
      "text/plain": [
       "       cpi_yearly  Unemployment Rate\n",
       "count  296.000000         296.000000\n",
       "mean     2.609163           4.238851\n",
       "std      3.853105           1.632014\n",
       "min     -5.938056           1.500000\n",
       "25%      0.174875           3.275000\n",
       "50%      2.515659           3.600000\n",
       "75%      5.451625           5.300000\n",
       "max      9.706280           8.500000\n",
       "cv       1.476759           0.385013"
      ]
     },
     "execution_count": 239,
     "metadata": {},
     "output_type": "execute_result"
    }
   ],
   "source": [
    "# Showing summary statistics\n",
    "summary = df_clean.describe()\n",
    "# Calculate Coefficient of Variation for each data series\n",
    "summary.loc['cv'] = [summary[key]['std']/summary[key]['mean'] for key in list(summary.keys())]\n",
    "\n",
    "summary"
   ]
  },
  {
   "cell_type": "code",
   "execution_count": 240,
   "metadata": {},
   "outputs": [
    {
     "data": {
      "image/png": "[encoded data removed]",
      "text/plain": [
       "<matplotlib.figure.Figure at 0x6faf6d0>"
      ]
     },
     "metadata": {},
     "output_type": "display_data"
    }
   ],
   "source": [
    "# Show box plot\n",
    "fig, ax = plt.subplots()\n",
    "df_clean.boxplot(ax=ax, grid=False)\n",
    "plt.show()"
   ]
  },
  {
   "cell_type": "markdown",
   "metadata": {},
   "source": [
    "According to the generated summary above, the inflation rate in Hong Kong in the past 25 years has a higher degree of dispersion (1.48) than that of unemployment rate (0.39)."
   ]
  },
  {
   "cell_type": "markdown",
   "metadata": {
    "hideCode": false,
    "hidePrompt": false
   },
   "source": [
    "### Scattered Plot\n",
    "<hr>"
   ]
  },
  {
   "cell_type": "markdown",
   "metadata": {
    "hideCode": false,
    "hidePrompt": false
   },
   "source": [
    "As the first step, a scattered plot is used to display the relationship between unemployment rate and inflation rate."
   ]
  },
  {
   "cell_type": "code",
   "execution_count": 241,
   "metadata": {
    "hideCode": false,
    "hidePrompt": false,
    "scrolled": true
   },
   "outputs": [
    {
     "data": {
      "image/png": "[encoded data removed]",
      "text/plain": [
       "<matplotlib.figure.Figure at 0x9eee410>"
      ]
     },
     "metadata": {},
     "output_type": "display_data"
    },
    {
     "data": {
      "image/png": "[encoded data removed]",
      "text/plain": [
       "<matplotlib.figure.Figure at 0x8ed65d0>"
      ]
     },
     "metadata": {},
     "output_type": "display_data"
    }
   ],
   "source": [
    "import scipy.stats as stats\n",
    "# For code reuse later\n",
    "def plot_scatter(x, y, fig_num, degree=2):\n",
    "    plt.figure(num=fig_num)\n",
    "    # Get Scattered Plot\n",
    "    plt.scatter(x, y)\n",
    "\n",
    "    # Get best-fitting curve with degree 2\n",
    "    z = np.polyfit(x,y,degree)\n",
    "    f = np.poly1d(z)\n",
    "    y_hat = f(x)\n",
    "\n",
    "    plt.plot(x, y_hat, 'r--')\n",
    "\n",
    "    # Calculate R square\n",
    "    x_min = np.min(x)\n",
    "    x_max = np.max(x)\n",
    "    y_min = np.min(y)\n",
    "    y_max = np.max(y)\n",
    "    y_bar = np.sum(y)/len(y)\n",
    "    RSS = np.sum((y_hat-y_bar)**2)\n",
    "    TSS = np.sum((y-y_bar)**2)\n",
    "    plt.text(x_max*0.8,y_max*0.9,r\"$R^2 = $\" + str(round(RSS/TSS,5)))\n",
    "    \n",
    "    plt.xlim((x_min,x_max))\n",
    "    plt.ylim((y_min,y_max))\n",
    "    plt.title('Scatter Plot')\n",
    "    plt.ylabel('Inflation Rate (%)')\n",
    "    plt.xlabel('Unemployment Rate (%)')\n",
    "    \n",
    "    # Residual Analysis\n",
    "    plt.figure(num=fig_num+100)\n",
    "    plt.xlim((x_min,x_max))\n",
    "    # Draw dotted line at y=0\n",
    "    h_line = np.linspace(0,10,100)\n",
    "    plt.plot(h_line,[0]*len(h_line),'g--')\n",
    "    y_std = np.std(y)\n",
    "    res = (y-y_hat)/y_std\n",
    "    plt.scatter(x,res)\n",
    "    plt.title('Residual Analysis')\n",
    "    plt.ylabel('Standardized Residual')\n",
    "    plt.xlabel('Unemployment Rate (%)')\n",
    "    \n",
    "plot_scatter(unemployment_rate,cpi,221)\n",
    "plt.show()"
   ]
  },
  {
   "cell_type": "markdown",
   "metadata": {},
   "source": [
    "From the graph above, the degree-3 polynomial curve fits the data quite well, explaining over 75% of the total variation."
   ]
  },
  {
   "cell_type": "markdown",
   "metadata": {},
   "source": [
    "Next, the relationship between these two variables in different periods is studied."
   ]
  },
  {
   "cell_type": "code",
   "execution_count": 242,
   "metadata": {},
   "outputs": [
    {
     "data": {
      "image/png": "[encoded data removed]",
      "text/plain": [
       "<matplotlib.figure.Figure at 0x8bfe110>"
      ]
     },
     "metadata": {},
     "output_type": "display_data"
    },
    {
     "data": {
      "image/png": "[encoded data removed]",
      "text/plain": [
       "<matplotlib.figure.Figure at 0x8c025b0>"
      ]
     },
     "metadata": {},
     "output_type": "display_data"
    },
    {
     "data": {
      "image/png": "[encoded data removed]",
      "text/plain": [
       "<matplotlib.figure.Figure at 0x8cf0050>"
      ]
     },
     "metadata": {},
     "output_type": "display_data"
    },
    {
     "data": {
      "image/png": "[encoded data removed]",
      "text/plain": [
       "<matplotlib.figure.Figure at 0x8dd7f10>"
      ]
     },
     "metadata": {},
     "output_type": "display_data"
    }
   ],
   "source": [
    "df_clean_list = []\n",
    "# Split the dataset into 2 subsets (on or before 2003, after 2003)\n",
    "df_clean_list.append(df_clean[df_clean['Date']<=datetime.date(2003,12,31)])\n",
    "df_clean_list.append(df_clean[df_clean['Date']>datetime.date(2003,12,31)])\n",
    "\n",
    "# Plot two charts\n",
    "for idx, df in enumerate(df_clean_list):\n",
    "    plot_scatter(df['Unemployment Rate'], df['cpi_yearly'], 222+idx)\n",
    "    \n",
    "plt.show()\n"
   ]
  },
  {
   "cell_type": "markdown",
   "metadata": {},
   "source": [
    "The scatter plots show that after 2003, the relationship between inflation rate and unemployment rate becomes less significant ($R^2$ drops from 0.81 to 0.62). In period 2 (after 2003), most of the variations come from the left. One possible explanation to this phenomenon is that the natural rate of unemployment during period 2 is near 3%, the increase in inflation rate cannot further reduce the unemployment rate.<br>\n",
    "Since the residual for the fitted curve in period 2 is non-random, this suggests that polynomial (degree 2) may not be the best choice of model to fit the data."
   ]
  },
  {
   "cell_type": "markdown",
   "metadata": {},
   "source": [
    "#### Exponential model for period 2"
   ]
  },
  {
   "cell_type": "markdown",
   "metadata": {},
   "source": [
    "Assume that the variables follow an expoential relationship, in order to show linearity, transformation is needed. As Y (cpi) may range from $-\\infty$ to $+\\infty$, the transformation is : <br>\n",
    "$Y^*=\\log(Y-\\min(Y)+1)$<br>\n",
    "Then we plot $Y^*$ against X (Unemployment Rate) and find the best-fit line."
   ]
  },
  {
   "cell_type": "code",
   "execution_count": 243,
   "metadata": {},
   "outputs": [
    {
     "data": {
      "image/png": "[encoded data removed]",
      "text/plain": [
       "<matplotlib.figure.Figure at 0x8ac8130>"
      ]
     },
     "metadata": {},
     "output_type": "display_data"
    },
    {
     "data": {
      "image/png": "[encoded data removed]",
      "text/plain": [
       "<matplotlib.figure.Figure at 0x89e9ad0>"
      ]
     },
     "metadata": {},
     "output_type": "display_data"
    }
   ],
   "source": [
    "# Get Period 2 dataset\n",
    "\n",
    "df_clean_2 = df_clean_list[1]\n",
    "x_arr = df_clean_2['Unemployment Rate']\n",
    "y_min = np.min(df_clean_2['cpi_yearly'])\n",
    "y_arr = df_clean_2['cpi_yearly'].apply(lambda y : np.log(y - y_min + 1) )\n",
    "plot_scatter(x_arr, y_arr, 224,degree=1)"
   ]
  },
  {
   "cell_type": "markdown",
   "metadata": {},
   "source": [
    "From the above plots, the pattern of residual becomes less significant and the $R^2$ rises from 0.616 to 0.685. This shows that the exponential model is better for fitting the data in period 2."
   ]
  },
  {
   "cell_type": "markdown",
   "metadata": {},
   "source": [
    "### Correlation Plot\n",
    "<hr>"
   ]
  },
  {
   "cell_type": "markdown",
   "metadata": {},
   "source": [
    "The cross-correlation plot of inflation rate and unemployment rate is produced to determine which type of indicators (lagging, coincident, leading) unemployment rate is for inflation rate."
   ]
  },
  {
   "cell_type": "code",
   "execution_count": 244,
   "metadata": {
    "hideCode": false,
    "hidePrompt": false,
    "scrolled": false
   },
   "outputs": [
    {
     "data": {
      "image/png": "[encoded data removed]",
      "text/plain": [
       "<matplotlib.figure.Figure at 0x6f5f7d0>"
      ]
     },
     "metadata": {},
     "output_type": "display_data"
    }
   ],
   "source": [
    "# normalize the arrays before using np.correlate to get normalized cross-correlation\n",
    "# Source: Numpy issue #2310\n",
    "# https://github.com/numpy/numpy/issues/2310\n",
    "norm_cpi = (cpi-np.mean(cpi)) / (np.std(cpi) * len(cpi))\n",
    "norm_unemployment_rate = (unemployment_rate-np.mean(unemployment_rate)) / (np.std(unemployment_rate))\n",
    "result = np.correlate(norm_unemployment_rate,norm_cpi, mode='full')\n",
    "index = range(-len(cpi)+1,len(cpi))\n",
    "\n",
    "df = pd.DataFrame()\n",
    "df['result'] = result\n",
    "df['t'] = index\n",
    "df = df.set_index('t')\n",
    "\n",
    "# Show 5 years lag/lead correlations\n",
    "df_plt = df.loc[-60:60]\n",
    "plt.bar(df_plt.index,df_plt['result'],width=0.5)\n",
    "plt.ylabel('Correlation')\n",
    "plt.xlabel('Time Lag')\n",
    "plt.title('Correlation Plot')\n",
    "df_tab = df.loc[-5:5].apply(lambda x : round(x,3))\n",
    "plt.table(cellText = df_tab.values,rowLabels = df_tab.index, bbox=[0,1.2,0.2,1], colLabels=df_tab.columns)\n",
    "plt.show()\n"
   ]
  },
  {
   "cell_type": "markdown",
   "metadata": {
    "hideCode": false,
    "hidePrompt": false
   },
   "source": [
    "Since year-on-year inflation rate is used for each month, the correlation plot is smooth. However, from the plot, inflation rate and unemployment rate shows strongest relationship around time lag 0. This suggests that unemployment rate is a coincident indicator of inflation rate."
   ]
  },
  {
   "cell_type": "markdown",
   "metadata": {
    "collapsed": true
   },
   "source": [
    "## Conclusion\n",
    "<hr>"
   ]
  },
  {
   "cell_type": "markdown",
   "metadata": {
    "collapsed": true
   },
   "source": [
    "In the past 26 years, the inflation rate and unemployment rate in Hong Kong follows a inverse relationship. Same as the Phillips Curve, the fitted curve is convex.<br>\n",
    "By splitting the data into two groups by time, it can be shown that this relationship is weakened in recent years. Some improvements can be achieved after implementing exponential model for the data from 2004 to present. This suggests that the current model cannot explain all the variations. The modern Phillips Curve shows that inflation rate depends on both unemployment rate and the excess of true inflation over expected inflation. This modern model may help explaining some of the variations that is not captured by the current model.<br>\n",
    "In addition, according to the cross-correlation plot, unemployment rate is a coincident indicator of inflation rate. "
   ]
  },
  {
   "cell_type": "code",
   "execution_count": null,
   "metadata": {
    "collapsed": true
   },
   "outputs": [],
   "source": []
  }
 ],
 "metadata": {
  "hide_code_all_hidden": false,
  "kernelspec": {
   "display_name": "Python 3",
   "language": "python",
   "name": "python3"
  },
  "language_info": {
   "codemirror_mode": {
    "name": "ipython",
    "version": 3
   },
   "file_extension": ".py",
   "mimetype": "text/x-python",
   "name": "python",
   "nbconvert_exporter": "python",
   "pygments_lexer": "ipython3",
   "version": "3.6.1"
  }
 },
 "nbformat": 4,
 "nbformat_minor": 2
}
